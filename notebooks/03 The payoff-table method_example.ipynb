{
 "cells": [
  {
   "cell_type": "markdown",
   "id": "169bfe5c-4945-4d42-840d-afd45871ff8b",
   "metadata": {},
   "source": [
    "# Assignment 1: The payoff-table method\n",
    "\n",
    "Start by defining a multiobjective optimization problem as an instance of the `MOProblem` class.\n",
    "You can use a problem you have defined previously, some of the test problems available, or\n",
    "you can come up with your own problem.\n",
    "\n",
    "Once you have defined your problem, use the payoff-table method defined in `desdeo-tools` to\n",
    "compute the ideal, and approximate the nadir point, of the problem you have defined.\n",
    "\n",
    "Report the value of the ideal point and nadir points (in the objective space). Give also a couple of\n",
    "comments on the quality of the points. Do they make sense?\n",
    "\n",
    "## Hints\n",
    "\n",
    "- Start by defining a multiobjective optimization problem as an instance of the `MOProblem` class. You can find some\n",
    "  pre-defined problems in the `desdeo_problem.testproblems` module [here](https://github.com/industrial-optimization-group/desdeo-problem/tree/master/desdeo_problem/testproblems)\n",
    "- The payoff-table method is located in the module `desdeo_mcdm.utilities` and is documented [here](https://desdeo-mcdm.readthedocs.io/en/latest/autoapi/desdeo_mcdm/utilities/solvers/index.html#desdeo_mcdm.utilities.solvers.payoff_table_method)."
   ]
  },
  {
   "cell_type": "code",
   "execution_count": 3,
   "id": "d1d8b92e-e62c-4239-8080-138ec892b65f",
   "metadata": {},
   "outputs": [],
   "source": [
    "from desdeo_problem.testproblems import test_problem_builder\n",
    "\n",
    "problem = test_problem_builder(\"DTLZ2\", 5, 3)"
   ]
  },
  {
   "cell_type": "code",
   "execution_count": 4,
   "id": "196199f9-30c0-46d4-a7a6-dd02785100be",
   "metadata": {},
   "outputs": [],
   "source": [
    "from desdeo_mcdm.utilities import payoff_table_method\n",
    "\n",
    "ideal, nadir = payoff_table_method(problem)"
   ]
  },
  {
   "cell_type": "code",
   "execution_count": 5,
   "id": "565df889-7a21-4ead-9fc5-5eaf6abaaa51",
   "metadata": {},
   "outputs": [
    {
     "name": "stdout",
     "output_type": "stream",
     "text": [
      "The ideal point is [2.47129783e-12 2.47142301e-12 1.57185028e-06] and the nadir point is [0.34561142 0.93892544 1.00078978]\n"
     ]
    }
   ],
   "source": [
    "print(f\"The ideal point is {ideal} and the nadir point is {nadir}\")"
   ]
  },
  {
   "cell_type": "markdown",
   "id": "79d9f24e-9c6b-43a3-9198-3ee267d8edeb",
   "metadata": {},
   "source": [
    "The ideal point is basically zeros while the ideal point is... not. This is actually a wrong value for the ideal point for the DTLZ2 problem. It should be [1, 1, 1]. We probably need to change solver..."
   ]
  },
  {
   "cell_type": "code",
   "execution_count": 10,
   "id": "f4c5cbe4-0678-4800-af06-cf147641b3f4",
   "metadata": {},
   "outputs": [],
   "source": [
    "import numpy as np\n",
    "\n",
    "ideal2, nadir2 = payoff_table_method(problem, initial_guess=np.array(5*[1.0]), solver_method=\"scipy_minimize\")"
   ]
  },
  {
   "cell_type": "code",
   "execution_count": 11,
   "id": "082c3b21-fabd-4154-b981-4c4a374c4993",
   "metadata": {},
   "outputs": [
    {
     "data": {
      "text/plain": [
       "array([4.31794452e-12, 2.74888886e-06, 1.57095636e-06])"
      ]
     },
     "execution_count": 11,
     "metadata": {},
     "output_type": "execute_result"
    }
   ],
   "source": [
    "ideal2"
   ]
  },
  {
   "cell_type": "code",
   "execution_count": 12,
   "id": "c08da292-87c6-416e-86ea-56783b033dbd",
   "metadata": {},
   "outputs": [
    {
     "data": {
      "text/plain": [
       "array([1.57095636e-06, 1.00010188e+00, 1.74999700e+00])"
      ]
     },
     "execution_count": 12,
     "metadata": {},
     "output_type": "execute_result"
    }
   ],
   "source": [
    "nadir2"
   ]
  },
  {
   "cell_type": "markdown",
   "id": "80904a81-7783-4d7e-933b-a7246a4683ae",
   "metadata": {},
   "source": [
    "The default solvers we have available, \"scipy_de\" for differential evolution and \"scipy_minimze\" for the minimize-method in SciPy, are not enough. In this case, we should specify our own solver with different options, see `desdeo_tools.solver.ScalarSolver.ScalarMethod`"
   ]
  },
  {
   "cell_type": "code",
   "execution_count": null,
   "id": "1520b324-3e56-4181-874e-0236ea9e88de",
   "metadata": {},
   "outputs": [],
   "source": []
  }
 ],
 "metadata": {
  "kernelspec": {
   "display_name": "Python 3 (ipykernel)",
   "language": "python",
   "name": "python3"
  },
  "language_info": {
   "codemirror_mode": {
    "name": "ipython",
    "version": 3
   },
   "file_extension": ".py",
   "mimetype": "text/x-python",
   "name": "python",
   "nbconvert_exporter": "python",
   "pygments_lexer": "ipython3",
   "version": "3.8.13"
  }
 },
 "nbformat": 4,
 "nbformat_minor": 5
}
