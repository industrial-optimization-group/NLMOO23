{
 "cells": [
  {
   "cell_type": "markdown",
   "id": "f4ceddb8-9eda-4170-8c18-ab09de27fac0",
   "metadata": {},
   "source": [
    "# Assignment 2: Scalarizing functions\n",
    "\n",
    "Different scalarizing functions will produce different solutions with the same preference information.\n",
    "Use different scalarizing functions to compute different solutions with the same preference information.\n",
    "\n",
    "Report on your results and comment on the solutios you have got.\n",
    "\n",
    "## Hints\n",
    "\n",
    "- An example below has been provided to show how a scalarized problem can be solved.\n",
    "- Different scalarization functions can be found in the modules found in `desdeo_tools.scalarization`.\n",
    "    - Some of the available scalarizing functions are documented [here](https://desdeo-tools.readthedocs.io/en/latest/autoapi/scalarization/ASF/index.html). These need to be setup before utilizing them to setup an instance of `Scalarizer`!\n",
    "- The logic to build is a scalarized problem is the following (also shown in the example code below):\n",
    "    1. First, we need a problem and a scalarization function.\n",
    "    2. Then, we need to scalarize the problem utilizing a `Scalarizer`.\n",
    "    3. Lastly, we need a solver (`ScalarMinimizer`) to tolve the scalarized problem.\n",
    "- Some scalarizing functions will require information about the ideal or the nadir point, or both. Use the values you got in the first assigment in this excercise set."
   ]
  },
  {
   "cell_type": "code",
   "execution_count": 2,
   "id": "3b90776f-a963-4e92-834d-c7f2cd639c98",
   "metadata": {},
   "outputs": [
    {
     "name": "stdout",
     "output_type": "stream",
     "text": [
      "Solution:\n",
      "Decision variables: [1.e-06 1.e-06 5.e-01 5.e-01 5.e-01]\n",
      "Objective vector: [[1.00000000e+00 1.57079633e-06 1.57079633e-06]]\n"
     ]
    }
   ],
   "source": [
    "# Example on how to scalarize and solve a scalarized problem\n",
    "\n",
    "import numpy as np\n",
    "\n",
    "from desdeo_problem.problem import MOProblem\n",
    "from desdeo_problem.testproblems import test_problem_builder \n",
    "from desdeo_tools.solver import ScalarMinimizer\n",
    "from desdeo_tools.scalarization import Scalarizer\n",
    "\n",
    "# Dummy scalarizing functions, do not use this, it is bad! (why?)\n",
    "def dummy_scalarizer(objective_vector: np.ndarray) -> float:\n",
    "    ys = np.atleast_2d(objective_vector)\n",
    "    \n",
    "    # you can try to change these weights and see how they affect the solution\n",
    "    ws = np.array([0.2, 0.4, 0.4])\n",
    "    \n",
    "    return np.sum(objective_vector * ws, axis=1)\n",
    "\n",
    "# DTLZ2 as an example problem to solve\n",
    "dtlz2 = test_problem_builder(\"DTLZ2\", n_of_variables=5, n_of_objectives=3)\n",
    "\n",
    "# Scalarize the problem\n",
    "sum_scalarazer = Scalarizer(lambda x: dtlz2.evaluate(x).objectives, dummy_scalarizer)\n",
    "\n",
    "# Setup a solver\n",
    "minimizer = ScalarMinimizer(sum_scalarazer, dtlz2.get_variable_bounds(), method=\"scipy_minimize\")\n",
    "\n",
    "# Solve\n",
    "res = minimizer.minimize(np.array(5*[0.5]))\n",
    "\n",
    "xs, fs = res.x, dtlz2.evaluate(res.x).objectives\n",
    "\n",
    "print(f\"Solution:\\nDecision variables: {xs}\\nObjective vector: {fs}\")"
   ]
  },
  {
   "cell_type": "code",
   "execution_count": 3,
   "id": "52dfe38b-d3b2-43e5-a65f-0f3bbeb68150",
   "metadata": {},
   "outputs": [],
   "source": [
    "from desdeo_tools.scalarization.ASF import StomASF"
   ]
  },
  {
   "cell_type": "code",
   "execution_count": 27,
   "id": "ebcd9f79-d850-4a36-b99f-aeedf70511ca",
   "metadata": {},
   "outputs": [],
   "source": [
    "ideal_point = np.array([0, 0, 0])\n",
    "stom_fun = StomASF(ideal_point)\n",
    "\n",
    "reference_point = np.array([0.2, 0.3, 0.1])\n",
    "objective_function = lambda x: dtlz2.evaluate(x).objectives\n",
    "\n",
    "stom_scalarizer = Scalarizer(objective_function, stom_fun, scalarizer_args={\"reference_point\": reference_point})\n",
    "\n",
    "stom_minimizer = ScalarMinimizer(stom_scalarizer, dtlz2.get_variable_bounds(), method=\"scipy_de\") # scipy_minimize"
   ]
  },
  {
   "cell_type": "code",
   "execution_count": 21,
   "id": "c55130d5-222b-46ad-a1d8-02c8c5205ad7",
   "metadata": {},
   "outputs": [],
   "source": [
    "res_stom = stom_minimizer.minimize(np.array(5*[0.5]))"
   ]
  },
  {
   "cell_type": "code",
   "execution_count": 22,
   "id": "54141cbd-cd91-41bc-a8fc-575c060a867c",
   "metadata": {},
   "outputs": [
    {
     "data": {
      "text/plain": [
       "     fun: 2.678513780047446\n",
       "     jac: array([-1.16690786e+00,  1.07378355e+00, -9.69935244e-04, -1.55893076e-01,\n",
       "       -1.96910532e-01])\n",
       " message: 'Optimization terminated successfully.'\n",
       "    nfev: 1893\n",
       "     nit: 16\n",
       " success: True\n",
       "       x: array([0.17223784, 0.62566561, 0.49981853, 0.47083501, 0.46316135])"
      ]
     },
     "execution_count": 22,
     "metadata": {},
     "output_type": "execute_result"
    }
   ],
   "source": [
    "res_stom"
   ]
  },
  {
   "cell_type": "code",
   "execution_count": 24,
   "id": "afc09d37-53eb-4fef-892e-5e10fd04fb10",
   "metadata": {},
   "outputs": [
    {
     "name": "stdout",
     "output_type": "stream",
     "text": [
      "Decison variables: [0.17223784 0.62566561 0.49981853 0.47083501 0.46316135]; objective functions values [[0.53570283 0.8035534  0.26785206]]; reference point; [0.2 0.3 0.1]\n"
     ]
    }
   ],
   "source": [
    "print(f\"Decison variables: {res_stom.x}; objective functions values {dtlz2.evaluate(res_stom.x).objectives}; reference point; {reference_point}\")"
   ]
  },
  {
   "cell_type": "code",
   "execution_count": null,
   "id": "3fc87768-3691-472b-99b2-f94339edc962",
   "metadata": {},
   "outputs": [],
   "source": []
  }
 ],
 "metadata": {
  "kernelspec": {
   "display_name": "Python 3 (ipykernel)",
   "language": "python",
   "name": "python3"
  },
  "language_info": {
   "codemirror_mode": {
    "name": "ipython",
    "version": 3
   },
   "file_extension": ".py",
   "mimetype": "text/x-python",
   "name": "python",
   "nbconvert_exporter": "python",
   "pygments_lexer": "ipython3",
   "version": "3.8.13"
  }
 },
 "nbformat": 4,
 "nbformat_minor": 5
}
