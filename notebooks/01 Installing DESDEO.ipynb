{
 "cells": [
  {
   "cell_type": "code",
   "execution_count": 1,
   "id": "b37a0dce-435c-4617-9209-d19d5a8d79d3",
   "metadata": {
    "tags": []
   },
   "outputs": [],
   "source": [
    "import desdeo_tools\n",
    "import desdeo_problem"
   ]
  },
  {
   "cell_type": "code",
   "execution_count": 2,
   "id": "557c334f-bbb3-412e-a304-e1bdd37b08e5",
   "metadata": {
    "tags": []
   },
   "outputs": [
    {
     "name": "stdout",
     "output_type": "stream",
     "text": [
      "Help on package desdeo_tools:\n",
      "\n",
      "NAME\n",
      "    desdeo_tools\n",
      "\n",
      "PACKAGE CONTENTS\n",
      "    interaction (package)\n",
      "    maps (package)\n",
      "    scalarization (package)\n",
      "    solver (package)\n",
      "    utilities (package)\n",
      "\n",
      "FILE\n",
      "    (built-in)\n",
      "\n",
      "\n"
     ]
    }
   ],
   "source": [
    "help(desdeo_tools)"
   ]
  },
  {
   "cell_type": "markdown",
   "id": "15aecf70-ffe4-4d3a-bc2d-336f60af90b4",
   "metadata": {
    "tags": []
   },
   "source": [
    "## Structure of DESDEO\n",
    "![Structure of DESDEO](https://raw.githubusercontent.com/industrial-optimization-group/DESDEO/master/docs/images/desdeo-main.png)"
   ]
  },
  {
   "cell_type": "markdown",
   "id": "df0b09cd-1f41-4860-a292-292f0b93efaf",
   "metadata": {},
   "source": [
    "## Check out the GitHub repositories for documentation on DESDEO\n",
    "\n",
    "https://github.com/industrial-optimization-group"
   ]
  },
  {
   "cell_type": "code",
   "execution_count": null,
   "id": "70a7e0f9-1a3e-4400-a61a-62b9b1c30a4e",
   "metadata": {},
   "outputs": [],
   "source": []
  }
 ],
 "metadata": {
  "kernelspec": {
   "display_name": "nlmoo23",
   "language": "python",
   "name": "nlmoo23"
  },
  "language_info": {
   "codemirror_mode": {
    "name": "ipython",
    "version": 3
   },
   "file_extension": ".py",
   "mimetype": "text/x-python",
   "name": "python",
   "nbconvert_exporter": "python",
   "pygments_lexer": "ipython3",
   "version": "3.10.9"
  }
 },
 "nbformat": 4,
 "nbformat_minor": 5
}
